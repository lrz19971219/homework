{
 "cells": [
  {
   "cell_type": "markdown",
   "metadata": {},
   "source": [
    "# Introduction to Artificial Intelligence for Non Computing"
   ]
  },
  {
   "cell_type": "markdown",
   "metadata": {},
   "source": [
    "## Practical 3 (weeks 5 - 6)"
   ]
  },
  {
   "cell_type": "markdown",
   "metadata": {},
   "source": [
    "The following links provide additional information about data analysis , machine learning and Numpy"
   ]
  },
  {
   "cell_type": "markdown",
   "metadata": {},
   "source": [
    "Python data analysis: https://www.imooc.com/learn/843\n",
    "machine learning: https://www.imooc.com/learn/717\n",
    "Numpy :https://www.imooc.com/learn/943"
   ]
  },
  {
   "cell_type": "markdown",
   "metadata": {},
   "source": [
    "#### Theory Questions"
   ]
  },
  {
   "cell_type": "markdown",
   "metadata": {},
   "source": [
    "1\\.Which of the following are true and which are false? Give brief explanations.\n",
    "- a. In a fully observable, turn-taking, zero-sum game between two perfectly rational players,it does not help the first player to know what strategy the second player is using—that is, what move the second player will make, given the first player's move.\n",
    "- b. In a partially observable, turn-taking, zero-sum game between two perfectly rational players, it does not help the first player to know what move the second player will make, given the first player's move.\n",
    "- c. A perfectly rational backgammon agent never loses.\n",
    "\n",
    "See textbook Chapter6 24.6"
   ]
  },
  {
   "cell_type": "markdown",
   "metadata": {},
   "source": [
    "_your answer here..._ \n",
    "- a. True. The second player will play optimally, and so is perfectly predictable up to ties. Knowing which of two equally good moves the opponent will not change the value of the game to the first player.\n",
    "- b. False. In a partially observable game, knowing the second play's move tells the first player additional information about the game state that would otherwise be available only to the second player.\n",
    "- c. False. Backgammon is a game of chance, and the opponent may consistently roll much better dice. The correct statement is that the excepted winnings are optimal.\n"
   ]
  },
  {
   "cell_type": "markdown",
   "metadata": {},
   "source": [
    "2\\.Define in your own words the terms constraint, backtracking search, arc consistency,backjumping, min-conflicts, and cycle cutset.\n",
    "\n",
    "See textbook Chapter6 6.16"
   ]
  },
  {
   "cell_type": "markdown",
   "metadata": {},
   "source": [
    "_your answer here..._ \n",
    "- Constrain: A demarcation of geometrical characteristics between two or more entities or solid modeling bodies.\n",
    "- Backtracking search: A general algorithm for finding all (or some) solutions to some computational problems, notably constraint satisfaction problems, that incrementally builds candidates to the solutions, and abandons a candidate (\"backtracks\") as soon as it determines that the candidate cannot possibly be completed to a valid solution.\n",
    "- Arc comsistency: A variable of a constraint satisfaction problem is arc-consistent with another one if each of its admissible values are consistent with some admissible value of the second variable. \n",
    "- Backjumping:  A technique that reduces search space, therefore increasing efficiency.\n",
    "- Min-conflicts: A search algorithm or heuristic method to solve constraint satisfaction problems (CSP).\n",
    "- Cycle cutset: A set of vertices whose removal leaves a graph without cycles. In other words, each feedback vertex set contains at least one vertex of any cycle in the graph."
   ]
  },
  {
   "cell_type": "markdown",
   "metadata": {},
   "source": [
    "3\\.Explain why it is a good heuristic to choose the variable that is most constrained but the value that is least constraining in a CSP search.\n",
    "\n",
    "See textbook Chapter6 6.9"
   ]
  },
  {
   "cell_type": "markdown",
   "metadata": {},
   "source": [
    "_your answer here..._ \n",
    "- The most constrained variable makes senses because it chooses a variable that is(all other things being equal)likely to cause a faliture, and it is more efficient to fail as early as possible. The least constraining value heuristic makes sense becauseit allows the most chances to future assignments to avoid comflict.\n",
    "***"
   ]
  },
  {
   "cell_type": "markdown",
   "metadata": {},
   "source": [
    "4\\.Consider the following procedure for choosing moves in games with chance nodes: \n",
    "- 1、Generate some dice-roll sequences (say, 50) down to a suitable depth (say, 8).\n",
    "- 2、With known dice rolls, the game tree becomes deterministic. For each dice-roll sequence,solve the resulting deterministic game tree using alpha-beta.\n",
    "- 3、Use the results to estimate the value of each move and to choose the best.Will this procedure work well? Why (or why not)?\n",
    "\n",
    "See textbook Chapter5 5.19"
   ]
  },
  {
   "cell_type": "markdown",
   "metadata": {},
   "source": [
    "_your answer here..._ \n",
    "- This procedure will give incorrect result. Mathematically, the procedure amounts to assuming that averaging commutes with min and max, which it does not. Intuitively, the choices made by each player in the deterministic trees are based on full knowledge of future dice rolls, and bear no necessary relationship to the moves made without such knowledge.\n",
    "***"
   ]
  },
  {
   "cell_type": "markdown",
   "metadata": {},
   "source": [
    "5\\. Now,please consider this game:  there are three plates A, B and C, each plate has three bills. A puts 1, 20, 50; B puts 5, 10, 100; C puts 1, 5, 20. All units are \"Yuan\". There are two persons A and B, and two of them can check out three plates and banknotes .（ A is ourself, The other is B）\n",
    "The game is divided into three steps: \n",
    "- 1、A select a plate from three plate.\n",
    "- 2、B take out two banknotes from A selected plate,and give the  banknotes to A.  \n",
    "- 3、A take one of the two banknotes, and take it away.among,A want to get the max banknotes, B want to let A to get the min.\n",
    "\n",
    "Try to understand the minimax algorithm，you can click the link:https://blog.csdn.net/tangchenyi/article/details/22920031"
   ]
  },
  {
   "cell_type": "markdown",
   "metadata": {},
   "source": [
    "_your answer here..._ \n",
    "- A choose the plate A: B will choose 20 and 1, then the A will choose 20.\n",
    "- A choose the plate B: B will choose 5 and 10, then the A will choose 10.\n",
    "- A choose the plate C: B will choose 1 and 5, then the A will choose 5.\n",
    "- For A to get max, she should choose A plate.\n",
    "***"
   ]
  },
  {
   "cell_type": "markdown",
   "metadata": {},
   "source": [
    "### Programming Excercises"
   ]
  },
  {
   "cell_type": "markdown",
   "metadata": {},
   "source": [
    "1\\. Guess number(Single number): please generate a randomly number  with the function (random), then ask someone to guess the number,I think we should give the corresponding hint, otherwise it will be very difficult to guess the number.the game will be over untill you get the right number."
   ]
  },
  {
   "cell_type": "code",
   "execution_count": 2,
   "metadata": {},
   "outputs": [
    {
     "name": "stdout",
     "output_type": "stream",
     "text": [
      "Guess a number, and range is from 0 to 100\n",
      "Input your answer here:40\n",
      "Wrong answer. Your answer is small\n",
      "Input your answer here:50\n",
      "Wrong answer. Your answer is small\n",
      "Input your answer here:60\n",
      "Wrong answer. Your answer is great\n",
      "Input your answer here:53\n",
      "Wrong answer. Your answer is great\n",
      "Input your answer here:51\n",
      "Congratulation! The answer is correct\n"
     ]
    }
   ],
   "source": [
    "import random\n",
    "\n",
    "print(\"Guess a number, and range is from 0 to 100\")\n",
    "guess = random.randint(0, 100)\n",
    "while True:\n",
    "    answer = int(input(\"Input your answer here:\"))\n",
    "    if guess == answer:\n",
    "        print(\"Congratulation! The answer is correct\")\n",
    "        break\n",
    "    else:\n",
    "        if guess > answer:\n",
    "            print(\"Wrong answer. Your answer is small\")\n",
    "        else:\n",
    "            print(\"Wrong answer. Your answer is great\")\n"
   ]
  },
  {
   "cell_type": "markdown",
   "metadata": {},
   "source": [
    "2\\.if you had understand the guess single number games,Congratulates,next is the guess three number games,Maybe you can do it well.But this is a different way of thinking. \n",
    "first : we need generate three numbers,there are most ten times chances give  you to guess the number,of course,we also give you some cue.\n",
    "\n",
    "- 'When I say:-->It means:\n",
    "- 'error--> The 3 numbers are not in the mystical numbers.'\n",
    "- 'Only the number is correct --> the number is right , but the position is not right.'\n",
    "- 'Absolutely right--> numbers is right and the position also right.'\n",
    "\n",
    "Maybe it's better for you to understand the rule well through see the picture.\n",
    "<div style=\"float:left;\" ><img src=\"img/p1.png\" width=\"400\" height=\"300\" >"
   ]
  },
  {
   "cell_type": "code",
   "execution_count": 1,
   "metadata": {},
   "outputs": [
    {
     "name": "stdout",
     "output_type": "stream",
     "text": [
      "There are 3 numbers, please Guess what it is.\n",
      "The clue I gave is:\n",
      "When I say:                        It means:\n",
      "Error                              The 3 numbers are not in the mystical number\n",
      "Only the number is correct         The number is right, but the position is wrong\n",
      "Absolutely right                   Number is right and the position is also right\n",
      "There are 3 numbers. You have 10 chance to  guess it\n",
      "\n",
      "This is the 1 time: 234\n",
      "['Error', 'Only the number is correct', 'Only the number is correct']\n",
      "\n",
      "This is the 2 time: 345\n",
      "['Only the number is correct', 'Only the number is correct', 'Error']\n",
      "\n",
      "This is the 3 time: 483\n",
      "['Absolutely right', 'Error', 'Absolutely right']\n",
      "\n",
      "This is the 4 time: 403\n",
      "['Absolutely right', 'Error', 'Absolutely right']\n",
      "\n",
      "This is the 5 time: 413\n",
      "['Absolutely right', 'Error', 'Absolutely right']\n",
      "\n",
      "This is the 6 time: 423\n",
      "['Absolutely right', 'Error', 'Absolutely right']\n",
      "\n",
      "This is the 7 time: 463\n",
      "['Absolutely right', 'Error', 'Absolutely right']\n",
      "\n",
      "This is the 8 time: 473\n",
      "Congratulation!\n",
      "Do you want to play again?(yes or no)\n",
      "no\n"
     ]
    }
   ],
   "source": [
    "import random\n",
    "\n",
    "print(\"There are 3 numbers, please Guess what it is.\")\n",
    "print(\"The clue I gave is:\")\n",
    "print(\"When I say:                        It means:\\n\"\n",
    "      \"Error                              The 3 numbers are not in the mystical number\\n\"\n",
    "      \"Only the number is correct         The number is right, but the position is wrong\\n\"\n",
    "      \"Absolutely right                   Number is right and the position is also right\\n\"\n",
    "      \"There are 3 numbers. You have 10 chance to  guess it\")\n",
    "sequence = (\"0\", \"1\", \"2\", \"3\", \"4\", \"5\", \"6\", \"7\", \"8\", \"9\")\n",
    "aim = random.sample(sequence, 3)\n",
    "while True:\n",
    "    for i in range(1, 11):\n",
    "        print()\n",
    "        number = input(\"This is the {} time: \".format(i))\n",
    "        result = []\n",
    "        for n in range(0, 3):\n",
    "            if number[n] == aim[n]:\n",
    "                result.append(\"Absolutely right\")\n",
    "            else:\n",
    "                if number[n] in aim:\n",
    "                    result.append(\"Only the number is correct\")\n",
    "                else:\n",
    "                    result.append(\"Error\")\n",
    "        if result == [\"Absolutely right\", \"Absolutely right\", \"Absolutely right\"]:\n",
    "            print(\"Congratulation!\")\n",
    "            break\n",
    "        else:\n",
    "            print(result)\n",
    "    print(\"Do you want to play again?(yes or no)\")\n",
    "    answer = input()\n",
    "    if answer == \"no\":\n",
    "        break\n"
   ]
  },
  {
   "cell_type": "markdown",
   "metadata": {},
   "source": [
    "3\\.please try using Python's Tkinter to make a visual interface（GUI）.if you don't know anything.Maybe you can refer to the below interface.and implement it by code.\n",
    "\n",
    "<div style=\"float:left;\" ><img src=\"img/p2.png\" width=\"200\" height=\"200\" >"
   ]
  },
  {
   "cell_type": "code",
   "execution_count": 3,
   "metadata": {},
   "outputs": [],
   "source": [
    "from tkinter import *\n",
    "root = Tk()    \n",
    "li     = [ 'C', 'python', 'php', 'html', 'SQL', 'java']\n",
    "movie  = ['CSS', 'jQuery', 'Bootstap']\n",
    "listb  = Listbox(root) \n",
    "listb2 = Listbox(root)\n",
    "for item in li:\n",
    "    listb.insert(0,item)\n",
    " \n",
    "for item in movie:          \n",
    "    listb2.insert(0,item)\n",
    " \n",
    "listb.pack()             \n",
    "listb2.pack()\n",
    "root.mainloop()"
   ]
  },
  {
   "cell_type": "markdown",
   "metadata": {},
   "source": [
    "4\\.Through the initial trial of Tkinter,    please write a simple calculator.\n",
    "\n",
    "<div style=\"float:left;\" ><img src=\"img/p3.png\" width=\"180\" height=\"200\" center=\"left\"></div>\n",
    "<div style=\"float:left;\" ><img src=\"img/p4.png\" width=\"180\" height=\"200\" center=\"right\" ></div>"
   ]
  },
  {
   "cell_type": "code",
   "execution_count": 2,
   "metadata": {},
   "outputs": [],
   "source": [
    "import decimal, math\n",
    "from tkinter import *\n",
    "base = Tk()\n",
    "base.title(\"simple calculator\")\n",
    "global vartext, store, result, symbol\n",
    "result = None\n",
    "symbol = None\n",
    "vartext = StringVar()\n",
    "store = []\n",
    "\n",
    "\n",
    "class caculator:\n",
    "    def __init__(self,c):\n",
    "        self.c = c\n",
    "\n",
    "    def put(self):\n",
    "        store.append(self.c)\n",
    "        vartext.set(''.join(store))\n",
    "\n",
    "    def delete(self):\n",
    "        store.pop()\n",
    "        vartext.set(''.join(store))\n",
    "\n",
    "    def clear(self):\n",
    "        store.clear()\n",
    "        vartext.set('')\n",
    "\n",
    "    def change(self):\n",
    "        if store[0]:\n",
    "            if store[0] == '-':\n",
    "                store[0] = '+'\n",
    "            elif store[0] == '+':\n",
    "                store[0] = '-'\n",
    "            else:\n",
    "                store.insert(0, '-')\n",
    "        vartext.set(''.join(store))\n",
    "\n",
    "    def decimal(self):\n",
    "        if store.count('.') >= 1:\n",
    "            pass\n",
    "        else:\n",
    "            if store == [] :\n",
    "                store.append('0')\n",
    "            store.append('.')\n",
    "            vartext.set(''.join(store))\n",
    "\n",
    "    def caculate(self):\n",
    "        global store, vartext, result, symbol\n",
    "        if vartext.get() == '':\n",
    "            pass\n",
    "        else:\n",
    "            get1 = decimal.Decimal(vartext.get())\n",
    "            if self.c in ('1/x','sqrt'):\n",
    "                if self.c == '1/x':\n",
    "                    result = 1/get1\n",
    "                elif self.c == 'sqrt':\n",
    "                    result = math.sqrt(get1)\n",
    "            elif self.c in ('+', '-', '*', '/', '='):\n",
    "                if symbol is not None:\n",
    "                    get1 = decimal.Decimal(result)\n",
    "                    get2 = decimal.Decimal(vartext.get())\n",
    "                    if symbol == '+':\n",
    "                        result = get1 + get2\n",
    "                    elif symbol == '-':\n",
    "                        result = get1 - get2\n",
    "                    elif symbol == '*':\n",
    "                        result = get1 * get2\n",
    "                    elif symbol == '/':\n",
    "                        result = get1 / get2\n",
    "                else:\n",
    "                    result = get1\n",
    "                if self.c == '=':\n",
    "                    symbol = None\n",
    "                else:\n",
    "                    symbol = self.c\n",
    "            vartext.set(str(result))\n",
    "            store.clear()\n",
    "\n",
    "def help():\n",
    "    root = Tk()\n",
    "    root.title('help')\n",
    "    Label(root, text='Surprise!There is no help for you to read.', bg='pink').pack()\n",
    "    root.mainloop()\n",
    "\n",
    "entry1 = Label(base, width=25, height=2, bg='yellow', anchor='se', textvariable=vartext)\n",
    "entry1.grid(row=0, columnspan=4)\n",
    "buttonC = Button(base, text=' C ', width=5, command=caculator('c').clear)\n",
    "button12 = Button(base, text='±', width=5, command=caculator('c').change)\n",
    "buttonJ = Button(base, text='←', width=5, command=caculator('c').delete)\n",
    "buttonCE = Button(base, text='CE', width=5, command=caculator('c').clear)\n",
    "buttonC.grid(row=1, column=0)\n",
    "button12.grid(row=1, column=1)\n",
    "buttonJ.grid(row=1, column=2)\n",
    "buttonCE.grid(row=1, column=3)\n",
    "\n",
    "button1 = Button(base, text=' 1 ', width=5, command=caculator('1').put)\n",
    "button2 = Button(base, text='2', width=5, command=caculator('2').put)\n",
    "button3 = Button(base, text='3', width=5, command=caculator('3').put)\n",
    "button4 = Button(base, text='4', width=5, command=caculator('4').put)\n",
    "button1.grid(row=2, column=0)\n",
    "button2.grid(row=2, column=1)\n",
    "button3.grid(row=2, column=2)\n",
    "button4.grid(row=2, column=3)\n",
    "\n",
    "button5 = Button(base, text=' 5 ', width=5, command=caculator('5').put)\n",
    "button6 = Button(base, text='6', width=5, command=caculator('6').put)\n",
    "button7 = Button(base, text='7', width=5, command=caculator('7').put)\n",
    "button8 = Button(base, text='8', width=5, command=caculator('8').put)\n",
    "button5.grid(row=3, column=0)\n",
    "button6.grid(row=3, column=1)\n",
    "button7.grid(row=3, column=2)\n",
    "button8.grid(row=3, column=3)\n",
    "\n",
    "buttonR = Button(base, text=' . ', width=5, command=caculator('c').decimal)\n",
    "button9 = Button(base, text='9', width=5, command=caculator('9').put)\n",
    "button0 = Button(base, text='0', width=5, command=caculator('0').put)\n",
    "buttonE = Button(base, text='=', width=5, command=caculator('=').caculate)\n",
    "buttonR.grid(row=4, column=0)\n",
    "button9.grid(row=4, column=1)\n",
    "button0.grid(row=4, column=2)\n",
    "buttonE.grid(row=4, column=3)\n",
    "\n",
    "buttonA = Button(base, text=' + ', width=5, command=caculator('+').caculate)\n",
    "buttonS = Button(base, text='-', width=5, command=caculator('-').caculate)\n",
    "buttonM = Button(base, text='*', width=5, command=caculator('*').caculate)\n",
    "buttonD = Button(base, text='/', width=5, command=caculator('/').caculate)\n",
    "buttonA.grid(row=5, column=0)\n",
    "buttonS.grid(row=5, column=1)\n",
    "buttonM.grid(row=5, column=2)\n",
    "buttonD.grid(row=5, column=3)\n",
    "\n",
    "buttonH = Button(base, text=' help ', width=5, command=help)\n",
    "buttonH.grid(row=6, column=0)\n",
    "base.mainloop()\n"
   ]
  },
  {
   "cell_type": "markdown",
   "metadata": {},
   "source": [
    "5\\.Ball game:Python's pinball game, which can realize the game function of the keyboard control bottom baffle moving collision ball similar to table tennis game. \n",
    "\n",
    "<div style=\"float:left;\" ><img src=\"img/p5.png\" width=\"200\" height=\"200\" center=\"left\"></div>\n",
    "<div style=\"float:left;\" ><img src=\"img/p6.png\" width=\"200\" height=\"200\" center=\"right\" ></div>\n"
   ]
  },
  {
   "cell_type": "markdown",
   "metadata": {},
   "source": [
    "this is a step:how to install the matplotlib,you can reference this link:https://blog.csdn.net/not_give_up_/article/details/79058272\n",
    "1. Ball Class\n",
    "    draw is responsible for moving Ball\n",
    "    Collision detection, bounce, Ball detection of Paddle \n",
    "2. Paddle Class\n",
    "    draw is responsible for moving Paddle\n",
    "    Collision detection to determine whether or not to continue ,Monitor keyboard events\n",
    "3. main cycle\n",
    "    Drawing the Ball and Paddle"
   ]
  },
  {
   "cell_type": "code",
   "execution_count": null,
   "metadata": {},
   "outputs": [],
   "source": [
    "from tkinter import *\n",
    "import matplotlib\n",
    "matplotlib.use('Agg')\n",
    "import random\n",
    "import time\n",
    "class Ball:\n",
    "  def __init__(self, canvas, paddle, color):\n",
    "    self.canvas = canvas\n",
    "    self.paddle = paddle\n",
    "    self.id = canvas.create_oval(10, 10, 25, 25, fill=color)\n",
    "    self.canvas.move(self.id, 245, 100)\n",
    "    startx = [-3, -2, -1, 1, 2, 3]\n",
    "    random.shuffle(startx)\n",
    "    self.x = startx[0]\n",
    "    self.y = -3\n",
    "    self.canvas_height = self.canvas.winfo_height()\n",
    "    self.canvas_width = self.canvas.winfo_width()\n",
    "    self.hit_bottom = False\n",
    "  def draw(self):\n",
    "    self.canvas.move(self.id, self.x, self.y)\n",
    "    pos = self.canvas.coords(self.id)#top-left bottom-right\n",
    "    if (pos[1] <= 0 or self.hit_paddle(pos) == True):\n",
    "      self.y = -self.y\n",
    "    if (pos[0] <= 0 or pos[2] >= self.canvas_width):\n",
    "      self.x = -self.x\n",
    "    if (pos[3] >= self.canvas_height):\n",
    "      self.hit_bottom = True\n",
    "  def hit_paddle(self, pos):\n",
    "    paddle_pos = self.canvas.coords(self.paddle.id)\n",
    "    if (pos[2] >= paddle_pos[0] and pos[0] <= paddle_pos[2]):\n",
    "      if (pos[3] >= paddle_pos[1] and pos[3] <= paddle_pos[3]):\n",
    "        return True\n",
    "    return False\n",
    "class Paddle:\n",
    "  def __init__(self, canvas, color):\n",
    "    self.canvas = canvas\n",
    "    self.id = canvas.create_rectangle(0, 0, 100, 10, fill = color)\n",
    "    self.x = 0\n",
    "    self.canvas.move(self.id, 200, 300)\n",
    "    self.canvas_width = self.canvas.winfo_width()\n",
    "    self.canvas.bind_all(\"<Key-Left>\", self.turn_left)\n",
    "    self.canvas.bind_all(\"<Key-Right>\", self.turn_right)\n",
    "  def draw(self):\n",
    "    pos = self.canvas.coords(self.id)\n",
    "    if (pos[0] + self.x >= 0 and pos[2] + self.x <= self.canvas_width):\n",
    "      self.canvas.move(self.id, self.x, 0)\n",
    "    #self.x = 0\n",
    "  def turn_left(self, event):\n",
    "    self.x = -4\n",
    "  def turn_right(self, event):\n",
    "    self.x = 4\n",
    "tk = Tk()\n",
    "tk.title(\"Game\")\n",
    "tk.resizable(0, 0)#not resizable\n",
    "tk.wm_attributes(\"-topmost\", 1)#at top\n",
    "canvas = Canvas(tk, width = 500, height = 500, bd = 0, highlightthickness = 0)\n",
    "canvas.pack()\n",
    "tk.update()#init\n",
    "paddle = Paddle(canvas, 'blue')\n",
    "ball = Ball(canvas, paddle, 'red')\n",
    "while 1:\n",
    "  if (ball.hit_bottom == False):\n",
    "    ball.draw()\n",
    "    paddle.draw()\n",
    "  tk.update_idletasks()\n",
    "  tk.update()\n",
    "  time.sleep(0.01)"
   ]
  }
 ],
 "metadata": {
  "kernelspec": {
   "display_name": "Python 3",
   "language": "python",
   "name": "python3"
  },
  "language_info": {
   "codemirror_mode": {
    "name": "ipython",
    "version": 3
   },
   "file_extension": ".py",
   "mimetype": "text/x-python",
   "name": "python",
   "nbconvert_exporter": "python",
   "pygments_lexer": "ipython3",
   "version": "3.6.5"
  }
 },
 "nbformat": 4,
 "nbformat_minor": 2
}
